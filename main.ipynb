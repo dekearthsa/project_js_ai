{
 "cells": [
  {
   "cell_type": "code",
   "execution_count": 125,
   "metadata": {},
   "outputs": [],
   "source": [
    "### python 3.8.5 ###\n",
    "\n",
    "\n",
    "import numpy as np\n",
    "import matplotlib.pyplot as plt\n",
    "\n",
    "cut_off = 64\n",
    "\n",
    "textFile = open(\"./one_subject_entering_frame.txt\")\n",
    "text_file = textFile.read()\n",
    "array_number = text_file.split(\",\")\n",
    "\n",
    "array_number = [int(i) / 256 for i in array_number]\n",
    "\n",
    "set_np_array = []\n",
    "dump_array = []\n",
    "count_cut_off = 1\n",
    "\n",
    "for i in array_number:\n",
    "    if count_cut_off > cut_off:\n",
    "        count_cut_off = 1\n",
    "        dump_np_array = np.array(dump_array)\n",
    "        dump_np_array = dump_np_array.reshape(8,8)\n",
    "        set_np_array.append(dump_np_array)\n",
    "        dump_array = []\n",
    "    else:\n",
    "        count_cut_off = count_cut_off + 1\n",
    "        dump_array.append(i)\n",
    "        "
   ]
  },
  {
   "cell_type": "code",
   "execution_count": 144,
   "metadata": {},
   "outputs": [
    {
     "data": {
      "image/png": "[encoded data removed]",
      "text/plain": [
       "<Figure size 1440x1440 with 18 Axes>"
      ]
     },
     "metadata": {
      "needs_background": "light"
     },
     "output_type": "display_data"
    }
   ],
   "source": [
    "fig, axes = plt.subplots(18,1, figsize=(20,20))\n",
    "\n",
    "for idx,charts in enumerate(axes):\n",
    "    charts.imshow(set_np_array[idx])"
   ]
  },
  {
   "cell_type": "code",
   "execution_count": 145,
   "metadata": {},
   "outputs": [
    {
     "data": {
      "text/plain": [
       "[array([[22.  , 21.5 , 19.5 , 18.5 , 19.  , 19.75, 19.75, 19.5 ],\n",
       "        [19.5 , 20.25, 20.75, 19.5 , 19.5 , 19.75, 19.5 , 20.  ],\n",
       "        [19.25, 18.75, 19.25, 19.25, 18.75, 19.5 , 19.25, 19.5 ],\n",
       "        [19.5 , 19.5 , 18.75, 19.  , 19.75, 19.25, 19.25, 20.25],\n",
       "        [18.75, 18.75, 18.75, 19.5 , 19.5 , 19.25, 20.  , 20.  ],\n",
       "        [19.  , 19.75, 19.5 , 19.  , 19.75, 19.5 , 19.5 , 20.  ],\n",
       "        [19.25, 19.25, 19.75, 19.25, 19.25, 20.  , 19.75, 20.5 ],\n",
       "        [19.75, 19.5 , 19.75, 19.25, 19.25, 19.25, 19.  , 19.75]]),\n",
       " array([[21.5 , 20.75, 19.5 , 19.5 , 19.75, 19.5 , 19.5 , 20.  ],\n",
       "        [21.25, 21.75, 19.  , 19.75, 19.5 , 19.5 , 20.  , 19.5 ],\n",
       "        [19.  , 19.25, 19.5 , 19.25, 19.5 , 19.25, 19.25, 19.25],\n",
       "        [19.25, 18.75, 19.25, 19.  , 19.  , 19.5 , 20.  , 19.25],\n",
       "        [18.75, 18.75, 18.75, 19.5 , 19.5 , 19.75, 19.75, 19.25],\n",
       "        [19.25, 19.  , 19.  , 20.  , 19.5 , 19.75, 19.75, 19.75],\n",
       "        [19.25, 19.75, 19.5 , 19.25, 19.5 , 20.5 , 20.5 , 20.  ],\n",
       "        [19.25, 19.  , 18.75, 19.  , 19.5 , 19.5 , 20.5 , 22.25]]),\n",
       " array([[21.5 , 20.  , 19.75, 19.25, 20.  , 19.5 , 20.  , 21.5 ],\n",
       "        [21.25, 19.25, 19.5 , 19.25, 19.5 , 20.  , 19.5 , 19.5 ],\n",
       "        [19.25, 19.5 , 19.25, 19.75, 18.75, 19.25, 19.25, 19.  ],\n",
       "        [19.  , 19.  , 19.25, 19.  , 19.5 , 20.  , 19.25, 19.25],\n",
       "        [19.  , 19.  , 19.5 , 19.5 , 19.5 , 19.75, 19.5 , 19.  ],\n",
       "        [18.75, 19.25, 19.25, 19.5 , 19.75, 20.  , 19.75, 19.25],\n",
       "        [19.5 , 19.  , 19.25, 19.5 , 20.  , 20.5 , 19.75, 19.75],\n",
       "        [18.75, 19.5 , 19.  , 19.5 , 19.5 , 20.75, 22.25, 23.  ]]),\n",
       " array([[20.  , 19.25, 19.5 , 19.5 , 20.25, 20.5 , 22.75, 21.5 ],\n",
       "        [21.  , 19.75, 19.5 , 20.  , 20.5 , 19.  , 19.  , 19.75],\n",
       "        [19.25, 19.25, 19.75, 19.5 , 19.75, 19.25, 19.25, 18.75],\n",
       "        [19.25, 19.25, 19.  , 19.25, 20.25, 19.25, 19.25, 18.5 ],\n",
       "        [19.25, 19.25, 19.  , 19.5 , 19.75, 19.  , 19.25, 19.  ],\n",
       "        [19.  , 19.75, 19.25, 19.5 , 19.5 , 18.75, 19.  , 19.  ],\n",
       "        [19.25, 19.25, 19.25, 19.75, 21.25, 19.25, 19.75, 19.75],\n",
       "        [19.  , 19.25, 19.75, 19.25, 20.75, 20.75, 23.5 , 23.  ]]),\n",
       " array([[19.75, 19.75, 19.5 , 20.  , 20.  , 22.  , 21.75, 21.5 ],\n",
       "        [19.75, 19.5 , 19.75, 20.25, 19.  , 20.5 , 20.25, 21.25],\n",
       "        [19.75, 19.5 , 19.25, 19.  , 19.  , 19.  , 19.  , 19.5 ],\n",
       "        [19.25, 18.75, 19.  , 20.25, 19.25, 19.25, 18.75, 19.  ],\n",
       "        [19.25, 19.25, 20.  , 20.  , 19.5 , 19.5 , 19.75, 19.  ],\n",
       "        [19.75, 18.75, 20.  , 20.  , 19.25, 19.25, 19.25, 18.75],\n",
       "        [19.  , 19.5 , 20.  , 21.  , 19.75, 19.25, 19.5 , 18.5 ],\n",
       "        [19.  , 19.5 , 19.5 , 20.5 , 20.75, 23.75, 24.25, 23.5 ]]),\n",
       " array([[20.25, 20.  , 19.75, 19.25, 22.5 , 22.  , 21.5 , 20.75],\n",
       "        [19.25, 19.75, 19.25, 19.25, 21.25, 20.  , 21.25, 20.25],\n",
       "        [19.75, 19.5 , 20.  , 19.  , 19.75, 19.  , 20.  , 20.25],\n",
       "        [19.5 , 19.75, 19.75, 19.5 , 18.75, 18.5 , 19.75, 19.75],\n",
       "        [19.75, 19.75, 20.25, 19.25, 19.  , 19.  , 19.25, 19.75],\n",
       "        [19.75, 19.75, 20.  , 19.25, 19.25, 20.  , 19.25, 19.25],\n",
       "        [19.75, 20.25, 20.25, 19.75, 19.25, 19.25, 18.5 , 19.  ],\n",
       "        [19.75, 19.75, 20.25, 20.  , 22.5 , 24.5 , 24.  , 23.25]]),\n",
       " array([[20.  , 20.  , 19.5 , 22.75, 23.5 , 23.25, 22.75, 20.5 ],\n",
       "        [19.75, 20.25, 19.25, 20.  , 21.25, 21.5 , 20.25, 19.75],\n",
       "        [19.75, 19.75, 18.75, 19.5 , 19.  , 20.  , 20.75, 19.5 ],\n",
       "        [19.5 , 20.5 , 19.  , 19.  , 19.25, 19.  , 19.75, 19.5 ],\n",
       "        [19.5 , 20.25, 19.25, 19.25, 19.5 , 19.25, 19.5 , 19.5 ],\n",
       "        [19.5 , 19.5 , 19.  , 19.5 , 19.25, 19.25, 19.  , 19.25],\n",
       "        [20.  , 20.5 , 20.  , 19.25, 19.75, 19.25, 19.5 , 19.5 ],\n",
       "        [19.25, 20.25, 20.  , 20.75, 22.25, 21.75, 21.75, 20.5 ]]),\n",
       " array([[20.  , 19.25, 21.25, 23.25, 24.  , 24.5 , 21.25, 20.  ],\n",
       "        [20.25, 19.5 , 19.75, 21.75, 22.75, 22.75, 20.75, 20.  ],\n",
       "        [19.25, 18.75, 19.5 , 19.  , 20.5 , 21.  , 19.75, 19.5 ],\n",
       "        [20.  , 19.5 , 18.5 , 19.5 , 19.75, 19.5 , 19.5 , 19.5 ],\n",
       "        [19.75, 19.25, 19.25, 19.25, 18.5 , 19.5 , 19.  , 19.5 ],\n",
       "        [19.5 , 19.5 , 18.75, 19.  , 19.25, 19.25, 19.25, 19.25],\n",
       "        [20.75, 20.  , 19.75, 18.5 , 19.25, 19.  , 18.75, 19.75],\n",
       "        [20.75, 19.  , 19.5 , 21.75, 23.  , 22.  , 20.25, 20.  ]]),\n",
       " array([[18.75, 19.75, 21.75, 21.75, 23.  , 20.25, 20.25, 19.5 ],\n",
       "        [19.  , 18.75, 20.75, 23.25, 23.75, 22.  , 19.5 , 19.5 ],\n",
       "        [19.  , 19.25, 18.75, 20.75, 22.75, 20.25, 20.  , 20.  ],\n",
       "        [19.  , 18.25, 18.75, 19.25, 19.5 , 19.75, 19.75, 19.75],\n",
       "        [18.75, 19.  , 19.  , 19.  , 19.5 , 19.5 , 20.  , 19.5 ],\n",
       "        [18.75, 19.25, 19.  , 18.75, 18.75, 19.25, 20.25, 20.25],\n",
       "        [19.  , 19.25, 19.  , 19.  , 19.  , 19.25, 19.5 , 20.75],\n",
       "        [19.5 , 19.75, 21.5 , 23.  , 22.  , 20.  , 20.25, 20.75]]),\n",
       " array([[19.75, 22.25, 23.5 , 22.5 , 20.25, 19.75, 20.  , 19.25],\n",
       "        [19.5 , 21.75, 22.5 , 23.  , 21.75, 20.  , 19.75, 19.25],\n",
       "        [19.5 , 19.5 , 21.5 , 23.  , 20.75, 20.  , 20.25, 19.25],\n",
       "        [18.75, 19.  , 19.75, 20.5 , 19.75, 19.75, 20.5 , 19.5 ],\n",
       "        [19.25, 19.5 , 19.25, 19.75, 19.5 , 20.  , 20.  , 19.5 ],\n",
       "        [18.5 , 19.75, 19.5 , 19.  , 19.5 , 20.  , 20.75, 19.5 ],\n",
       "        [19.75, 19.25, 18.75, 19.5 , 19.75, 19.25, 20.25, 19.25],\n",
       "        [19.75, 20.5 , 21.5 , 20.75, 19.75, 19.75, 19.75, 19.  ]]),\n",
       " array([[22.75, 23.25, 22.25, 20.25, 19.75, 19.75, 19.25, 20.  ],\n",
       "        [22.75, 23.25, 22.75, 20.25, 19.25, 19.5 , 19.25, 19.75],\n",
       "        [20.  , 22.25, 23.5 , 20.25, 19.5 , 19.75, 19.25, 18.5 ],\n",
       "        [19.25, 20.5 , 20.75, 20.  , 20.  , 20.  , 19.5 , 19.  ],\n",
       "        [19.  , 19.  , 20.  , 19.5 , 20.  , 19.75, 19.25, 18.5 ],\n",
       "        [19.25, 19.25, 19.75, 19.75, 19.75, 20.75, 19.25, 20.  ],\n",
       "        [19.25, 18.75, 19.  , 19.75, 19.25, 19.75, 20.25, 22.75],\n",
       "        [22.75, 21.75, 20.25, 20.25, 20.5 , 20.  , 19.75, 23.  ]]),\n",
       " array([[22.75, 21.  , 19.5 , 19.75, 20.  , 19.  , 19.5 , 22.5 ],\n",
       "        [23.75, 21.  , 20.  , 19.5 , 20.5 , 19.5 , 19.5 , 20.25],\n",
       "        [22.25, 20.75, 19.25, 19.75, 20.5 , 18.75, 19.  , 19.25],\n",
       "        [20.25, 20.  , 19.5 , 20.  , 20.  , 19.75, 19.  , 19.  ],\n",
       "        [19.  , 20.  , 19.5 , 19.75, 19.5 , 19.5 , 19.25, 19.5 ],\n",
       "        [19.5 , 19.  , 19.5 , 20.25, 20.25, 19.75, 19.5 , 19.  ],\n",
       "        [18.75, 19.5 , 19.5 , 19.5 , 20.  , 21.5 , 22.75, 22.  ],\n",
       "        [22.  , 19.25, 19.75, 19.25, 20.  , 19.5 , 22.25, 23.75]]),\n",
       " array([[19.75, 18.75, 19.5 , 19.5 , 19.5 , 20.  , 23.5 , 22.25],\n",
       "        [19.5 , 19.25, 19.25, 19.25, 19.  , 19.  , 20.5 , 21.  ],\n",
       "        [20.  , 19.  , 18.75, 19.5 , 19.  , 18.5 , 18.75, 19.25],\n",
       "        [19.5 , 19.25, 19.25, 19.5 , 18.75, 19.25, 18.75, 19.  ],\n",
       "        [19.  , 19.  , 19.5 , 19.25, 19.25, 18.75, 19.  , 18.75],\n",
       "        [19.  , 19.25, 19.5 , 19.75, 19.5 , 19.5 , 19.  , 19.  ],\n",
       "        [19.25, 19.75, 19.  , 19.75, 22.25, 22.75, 22.75, 21.5 ],\n",
       "        [19.25, 20.  , 19.5 , 19.75, 19.75, 22.75, 23.  , 22.  ]]),\n",
       " array([[19.75, 19.75, 19.75, 19.25, 21.5 , 22.25, 20.75, 19.  ],\n",
       "        [19.75, 19.25, 18.75, 18.75, 19.5 , 19.5 , 19.75, 19.25],\n",
       "        [19.5 , 19.75, 19.75, 19.  , 18.75, 18.75, 19.25, 19.25],\n",
       "        [19.25, 19.5 , 19.75, 19.5 , 19.  , 19.75, 18.75, 19.75],\n",
       "        [19.25, 19.25, 19.25, 19.5 , 19.5 , 19.  , 19.25, 19.25],\n",
       "        [19.75, 20.  , 20.75, 19.5 , 19.75, 19.25, 19.25, 19.25],\n",
       "        [19.75, 19.25, 20.25, 22.  , 24.  , 22.  , 19.5 , 19.5 ],\n",
       "        [19.75, 19.5 , 19.5 , 19.5 , 23.  , 22.5 , 20.25, 19.75]]),\n",
       " array([[19.5 , 20.  , 19.5 , 21.25, 20.75, 20.  , 19.25, 19.5 ],\n",
       "        [19.25, 19.75, 18.75, 19.  , 18.75, 19.5 , 19.  , 19.25],\n",
       "        [19.25, 19.5 , 18.75, 18.75, 19.25, 19.  , 19.25, 19.25],\n",
       "        [19.5 , 20.  , 19.  , 19.  , 19.  , 19.  , 19.5 , 19.5 ],\n",
       "        [19.75, 19.5 , 19.  , 19.25, 19.75, 19.25, 18.5 , 19.5 ],\n",
       "        [19.5 , 20.75, 19.25, 19.75, 19.  , 19.  , 19.  , 19.5 ],\n",
       "        [19.25, 21.  , 22.75, 22.5 , 21.75, 19.  , 19.25, 20.  ],\n",
       "        [19.25, 19.5 , 21.25, 23.  , 21.75, 20.  , 19.75, 19.5 ]]),\n",
       " array([[20.25, 19.25, 21.25, 19.75, 19.5 , 18.75, 19.75, 19.  ],\n",
       "        [19.5 , 19.5 , 19.5 , 18.75, 19.25, 19.25, 19.  , 19.5 ],\n",
       "        [19.75, 18.75, 18.75, 18.75, 18.5 , 19.  , 18.75, 19.25],\n",
       "        [19.75, 19.  , 19.25, 19.5 , 18.75, 19.5 , 19.5 , 19.75],\n",
       "        [19.5 , 19.  , 19.  , 18.75, 19.25, 19.  , 19.25, 19.75],\n",
       "        [20.75, 19.75, 19.5 , 18.75, 19.  , 19.25, 19.25, 19.25],\n",
       "        [20.25, 22.75, 22.75, 20.25, 18.75, 18.5 , 19.75, 19.75],\n",
       "        [19.75, 22.25, 22.5 , 21.5 , 19.25, 19.75, 19.75, 19.25]]),\n",
       " array([[20.25, 20.75, 19.5 , 19.  , 19.  , 19.  , 19.25, 19.  ],\n",
       "        [18.25, 18.75, 18.25, 19.25, 19.  , 18.5 , 19.25, 20.25],\n",
       "        [19.  , 18.25, 18.75, 19.25, 19.  , 19.5 , 19.25, 20.25],\n",
       "        [18.75, 19.25, 19.  , 18.75, 19.5 , 19.  , 19.5 , 19.5 ],\n",
       "        [19.  , 19.25, 19.  , 19.25, 19.  , 19.5 , 20.5 , 20.5 ],\n",
       "        [19.  , 19.25, 19.  , 19.  , 18.75, 19.  , 19.  , 20.25],\n",
       "        [22.75, 21.25, 19.  , 18.75, 19.25, 19.25, 19.75, 19.75],\n",
       "        [21.75, 21.75, 20.75, 19.  , 19.25, 19.  , 19.25, 19.5 ]]),\n",
       " array([[19.25, 19.25, 19.  , 18.75, 19.5 , 18.75, 19.25, 19.25],\n",
       "        [19.25, 18.75, 19.  , 19.5 , 19.  , 19.25, 19.5 , 19.25],\n",
       "        [19.25, 19.  , 19.  , 19.  , 19.  , 19.5 , 19.75, 19.25],\n",
       "        [19.  , 19.  , 18.5 , 19.25, 18.75, 19.25, 19.75, 19.  ],\n",
       "        [19.  , 18.75, 19.  , 18.75, 19.75, 19.25, 20.25, 19.  ],\n",
       "        [19.75, 19.  , 18.75, 19.  , 19.25, 19.  , 20.  , 22.25],\n",
       "        [20.  , 19.25, 19.  , 19.75, 20.  , 19.75, 20.  , 21.25],\n",
       "        [21.25, 20.  , 18.75, 19.5 , 19.25, 19.25, 20.  , 19.75]])]"
      ]
     },
     "execution_count": 145,
     "metadata": {},
     "output_type": "execute_result"
    }
   ],
   "source": [
    "set_np_array"
   ]
  },
  {
   "cell_type": "code",
   "execution_count": 127,
   "metadata": {},
   "outputs": [
    {
     "data": {
      "text/plain": [
       "1.0"
      ]
     },
     "execution_count": 127,
     "metadata": {},
     "output_type": "execute_result"
    }
   ],
   "source": [
    "len(set_np_array[17])/8"
   ]
  }
 ],
 "metadata": {
  "kernelspec": {
   "display_name": "base",
   "language": "python",
   "name": "python3"
  },
  "language_info": {
   "codemirror_mode": {
    "name": "ipython",
    "version": 3
   },
   "file_extension": ".py",
   "mimetype": "text/x-python",
   "name": "python",
   "nbconvert_exporter": "python",
   "pygments_lexer": "ipython3",
   "version": "3.8.5"
  }
 },
 "nbformat": 4,
 "nbformat_minor": 2
}
